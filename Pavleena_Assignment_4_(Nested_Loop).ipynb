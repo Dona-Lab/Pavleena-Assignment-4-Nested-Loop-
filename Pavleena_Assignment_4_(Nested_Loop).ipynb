{
  "nbformat": 4,
  "nbformat_minor": 0,
  "metadata": {
    "colab": {
      "provenance": []
    },
    "kernelspec": {
      "name": "python3",
      "display_name": "Python 3"
    },
    "language_info": {
      "name": "python"
    }
  },
  "cells": [
    {
      "cell_type": "markdown",
      "source": [
        "Assignment: Write a python program to print your name diagonally within the star pattern."
      ],
      "metadata": {
        "id": "NddXJ25r-Toh"
      }
    },
    {
      "cell_type": "code",
      "source": [
        "name=str(input(\"Enter your name: \"))\n",
        "len=int(input('Enter length of your name:'))\n",
        "\n",
        "for r in range(0,len):\n",
        "  for c in range(0,len):\n",
        "     if(c==r):\n",
        "      print(name[c],end=\"\")\n",
        "     else:\n",
        "      print(\"*\",end=\"\")\n",
        "  print()\n"
      ],
      "metadata": {
        "colab": {
          "base_uri": "https://localhost:8080/"
        },
        "id": "ttJFxbqzZ7TP",
        "outputId": "5d241deb-bc74-41c8-815a-9466d3bd1560"
      },
      "execution_count": 40,
      "outputs": [
        {
          "output_type": "stream",
          "name": "stdout",
          "text": [
            "Enter your name: pavleena\n",
            "Enter length of your name:8\n",
            "p*******\n",
            "*a******\n",
            "**v*****\n",
            "***l****\n",
            "****e***\n",
            "*****e**\n",
            "******n*\n",
            "*******a\n"
          ]
        }
      ]
    }
  ]
}